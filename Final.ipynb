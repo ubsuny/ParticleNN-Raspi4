{
 "cells": [
  {
   "cell_type": "markdown",
   "metadata": {},
   "source": [
    "# Particle Neural Network"
   ]
  },
  {
   "cell_type": "markdown",
   "metadata": {},
   "source": [
    "Imports Three handcrafted files, in addition to the standard numpy and matplotlib moduals.  ParticleNet.py is the neural network, which takes as input 4-vectors generated using ExpodentialDistribution.py and GaussianDistribution.py which produced 3-vector momentum and a mass vector each, where the mass vector is radomly drawn from either an expodential or a gaussian distribution respectivly.  PlotResults contains a plot function, which plots the distribution of the precentages of the Particle Neural Network's predictions for a single particle."
   ]
  },
  {
   "cell_type": "code",
   "execution_count": 12,
   "metadata": {},
   "outputs": [],
   "source": [
    "from ExpodentialDistribution import Exp\n",
    "from GaussianDistribution import Gauss\n",
    "from ParticleNet import ParticleNet\n",
    "import numpy as np\n",
    "from PlotResults import plot\n",
    "import matplotlib.pyplot as plt\n",
    "import tensorflow as tf"
   ]
  },
  {
   "cell_type": "markdown",
   "metadata": {},
   "source": [
    "These are the only constants needed to run this simulation thus far.  'p' the momentum is constant for all particles.  Ntrain is the number of samples the particle neural network will train on, and Ntest is the number of particles the neural network will test on."
   ]
  },
  {
   "cell_type": "code",
   "execution_count": 13,
   "metadata": {},
   "outputs": [],
   "source": [
    "p = 100\n",
    "Ntrain = 1000000\n",
    "Ntest = 1000000"
   ]
  },
  {
   "cell_type": "markdown",
   "metadata": {},
   "source": [
    "Below, we generate our data to feed into the particle neural network.  First we create training and testing data sets from the expodential distribution modual and then the gaussian modual.  Both moduals generate a 4-vector, which includes a 3-vector momentum and a mass vector where the masses are drawn from the respective distribution at random.  Besides the 4-vector, a vector idicating that which distribution each piece of data belongs to is returned, a vector of all zeros for the expodential distribution and a vector of all ones for the gaussian."
   ]
  },
  {
   "cell_type": "code",
   "execution_count": 14,
   "metadata": {},
   "outputs": [],
   "source": [
    "ETrain,ETrainVals = Exp(p,Ntrain)\n",
    "ETest,ETestVals = Exp(p,Ntest)\n",
    "\n",
    "GTrain,GTrainVals = Gauss(p,Ntrain)\n",
    "GTest,GTestVals = Gauss(p,Ntest)"
   ]
  },
  {
   "cell_type": "markdown",
   "metadata": {},
   "source": [
    "Here, we are just concatinating the data from the expodential and gaussian distributions into a single training and testing data set."
   ]
  },
  {
   "cell_type": "code",
   "execution_count": 15,
   "metadata": {},
   "outputs": [],
   "source": [
    "Train = np.zeros((2*Ntrain,5))\n",
    "Test = np.zeros((2*Ntest,5))\n",
    "\n",
    "Train[:Ntrain,0:4] = ETrain\n",
    "Train[Ntrain:,0:4] = GTrain\n",
    "Train[:Ntrain,4] = ETrainVals\n",
    "Train[Ntrain:,4] = GTrainVals\n",
    "\n",
    "Test[:Ntest,0:4] = ETest\n",
    "Test[Ntest:,0:4] = GTest\n",
    "Test[:Ntrain,4] = ETrainVals\n",
    "Test[Ntrain:,4] = GTrainVals\n",
    "\n",
    "BUFFER_SIZE = Ntrain\n",
    "BATCH_SIZE = Ntrain*2\n",
    "train_dataset = tf.data.Dataset.from_tensor_slices(Train).shuffle(BUFFER_SIZE).batch(BATCH_SIZE)\n",
    "test_dataset = tf.data.Dataset.from_tensor_slices(Test).shuffle(BUFFER_SIZE).batch(BATCH_SIZE)"
   ]
  },
  {
   "cell_type": "code",
   "execution_count": null,
   "metadata": {},
   "outputs": [],
   "source": []
  },
  {
   "cell_type": "code",
   "execution_count": 16,
   "metadata": {},
   "outputs": [],
   "source": [
    "for i in train_dataset.take(-1):\n",
    "    train = i[0:,0:4]\n",
    "    train_vals = i[0:,4]\n",
    "for i in test_dataset.take(-1):\n",
    "    test = i[0:,0:4]\n",
    "    test_vals = i[0:,4]\n",
    "train = np.array(train)\n",
    "train_vals = np.array(train_vals)\n",
    "test = np.array(test)\n",
    "test_vals = np.array(test_vals)"
   ]
  },
  {
   "cell_type": "code",
   "execution_count": null,
   "metadata": {},
   "outputs": [],
   "source": []
  },
  {
   "cell_type": "code",
   "execution_count": null,
   "metadata": {},
   "outputs": [],
   "source": []
  },
  {
   "cell_type": "code",
   "execution_count": null,
   "metadata": {},
   "outputs": [],
   "source": []
  },
  {
   "cell_type": "code",
   "execution_count": null,
   "metadata": {},
   "outputs": [],
   "source": []
  },
  {
   "cell_type": "markdown",
   "metadata": {},
   "source": [
    "Below is the particle neural network being run on the data generated."
   ]
  },
  {
   "cell_type": "code",
   "execution_count": 17,
   "metadata": {},
   "outputs": [
    {
     "name": "stdout",
     "output_type": "stream",
     "text": [
      "Epoch 1/3\n",
      "62500/62500 [==============================] - 32s 507us/step - loss: 0.4082 - accuracy: 0.8344\n",
      "Epoch 2/3\n",
      "62500/62500 [==============================] - 31s 501us/step - loss: 0.3538 - accuracy: 0.8511\n",
      "Epoch 3/3\n",
      "62500/62500 [==============================] - 32s 517us/step - loss: 0.3456 - accuracy: 0.8522\n",
      "62500/62500 [==============================] - 25s 406us/step - loss: 0.3454 - accuracy: 0.8514\n",
      "\n",
      "Test accuracy: 0.8514189720153809\n"
     ]
    }
   ],
   "source": [
    "predict = ParticleNet(train,train_vals,test)"
   ]
  },
  {
   "cell_type": "markdown",
   "metadata": {},
   "source": [
    "Below, we take a look at the masses for the expodential distribution."
   ]
  },
  {
   "cell_type": "code",
   "execution_count": 18,
   "metadata": {},
   "outputs": [
    {
     "data": {
      "text/plain": [
       "Text(0.5, 1.0, 'Expodential Distrubution')"
      ]
     },
     "execution_count": 18,
     "metadata": {},
     "output_type": "execute_result"
    },
    {
     "data": {
      "image/png": "[encoded data removed]",
      "text/plain": [
       "<Figure size 432x288 with 1 Axes>"
      ]
     },
     "metadata": {
      "needs_background": "light"
     },
     "output_type": "display_data"
    }
   ],
   "source": [
    "n, bins, patches = plt.hist(x=ETrain[:,3], bins='auto')\n",
    "plt.xlabel('Masses Expodential')\n",
    "plt.ylabel('Frequency')\n",
    "plt.title('Expodential Distrubution')"
   ]
  },
  {
   "cell_type": "markdown",
   "metadata": {},
   "source": [
    "Below is a plot of the masses randomly generated from a Gaussian distribution."
   ]
  },
  {
   "cell_type": "code",
   "execution_count": 19,
   "metadata": {},
   "outputs": [
    {
     "data": {
      "text/plain": [
       "Text(0.5, 1.0, 'Normal Distrubution')"
      ]
     },
     "execution_count": 19,
     "metadata": {},
     "output_type": "execute_result"
    },
    {
     "data": {
      "image/png": "[encoded data removed]",
      "text/plain": [
       "<Figure size 432x288 with 1 Axes>"
      ]
     },
     "metadata": {
      "needs_background": "light"
     },
     "output_type": "display_data"
    }
   ],
   "source": [
    "n, bins, patches = plt.hist(x=GTrain[:,3], bins='auto')\n",
    "plt.xlabel('Masses Normal')\n",
    "plt.ylabel('Frequency')\n",
    "plt.title('Normal Distrubution')"
   ]
  },
  {
   "cell_type": "code",
   "execution_count": 20,
   "metadata": {},
   "outputs": [
    {
     "data": {
      "text/plain": [
       "Text(0.5, 1.0, 'Normal Distrubution')"
      ]
     },
     "execution_count": 20,
     "metadata": {},
     "output_type": "execute_result"
    },
    {
     "data": {
      "image/png": "[encoded data removed]",
      "text/plain": [
       "<Figure size 432x288 with 1 Axes>"
      ]
     },
     "metadata": {
      "needs_background": "light"
     },
     "output_type": "display_data"
    }
   ],
   "source": [
    "n2, bins2, patches2 = plt.hist(x=ETrain[:,3], bins=np.arange(0,1000,5))\n",
    "n, bins, patches = plt.hist(x=GTrain[:,3], bins=np.arange(0,1000,5))\n",
    "plt.xlim(0,600)\n",
    "plt.ylabel('Frequency')\n",
    "plt.title('Normal Distrubution')"
   ]
  },
  {
   "cell_type": "code",
   "execution_count": 21,
   "metadata": {},
   "outputs": [
    {
     "name": "stdout",
     "output_type": "stream",
     "text": [
      "999948.0\n",
      "1000000.0\n",
      "0.3102981784453245\n"
     ]
    }
   ],
   "source": [
    "integN = np.sum(n2)\n",
    "integG = np.sum(n)\n",
    "print(integN)\n",
    "print(integG)\n",
    "xmin = np.argwhere(bins==25).flatten()[0]\n",
    "xmax = np.argwhere(bins==75).flatten()[0]\n",
    "ratio = np.sum(n2[xmin:xmax])/np.sum(n[xmin:xmax])\n",
    "print(ratio)"
   ]
  },
  {
   "cell_type": "markdown",
   "metadata": {},
   "source": []
  },
  {
   "cell_type": "code",
   "execution_count": null,
   "metadata": {},
   "outputs": [],
   "source": []
  },
  {
   "cell_type": "markdown",
   "metadata": {},
   "source": []
  },
  {
   "cell_type": "code",
   "execution_count": null,
   "metadata": {},
   "outputs": [],
   "source": []
  },
  {
   "cell_type": "markdown",
   "metadata": {},
   "source": []
  },
  {
   "cell_type": "code",
   "execution_count": null,
   "metadata": {},
   "outputs": [],
   "source": []
  },
  {
   "cell_type": "code",
   "execution_count": 22,
   "metadata": {},
   "outputs": [
    {
     "name": "stdout",
     "output_type": "stream",
     "text": [
      "The model, on average, thought a Expodential distribution to be just that at 57.588462500000006 percent.\n",
      "And thought a Expodential distribution to be a Gaussian distribution at 42.421928125 percent.\n"
     ]
    }
   ],
   "source": [
    "FalseExps = sum(predict[:Ntest])/Ntest*100\n",
    "print(\"The model, on average, thought a Expodential distribution to be just that at \" + str(FalseExps[0]) + \" percent.\")\n",
    "print(\"And thought a Expodential distribution to be a Gaussian distribution at \" + str(FalseExps[1]) + \" percent.\")"
   ]
  },
  {
   "cell_type": "code",
   "execution_count": 23,
   "metadata": {},
   "outputs": [
    {
     "name": "stdout",
     "output_type": "stream",
     "text": [
      "The model, on average, thought a Gaussian distribution to be just that at 57.24317812500001 percent.\n",
      "And thought a Gaussian distribution to be a Expodential distribution at 42.75500625 percent.\n"
     ]
    }
   ],
   "source": [
    "FalseGauss = (Ntest-sum(predict[Ntest:]))/Ntest*100\n",
    "print(\"The model, on average, thought a Gaussian distribution to be just that at \" + str(FalseGauss[0]) + \" percent.\")\n",
    "print(\"And thought a Gaussian distribution to be a Expodential distribution at \" + str(FalseGauss[1]) + \" percent.\")"
   ]
  },
  {
   "cell_type": "code",
   "execution_count": 24,
   "metadata": {},
   "outputs": [
    {
     "data": {
      "text/plain": [
       "(0.0, 200.0)"
      ]
     },
     "execution_count": 24,
     "metadata": {},
     "output_type": "execute_result"
    },
    {
     "data": {
      "image/png": "[encoded data removed]",
      "text/plain": [
       "<Figure size 432x288 with 1 Axes>"
      ]
     },
     "metadata": {
      "needs_background": "light"
     },
     "output_type": "display_data"
    }
   ],
   "source": [
    "dist = Train[:,3]*predict[:,0]\n",
    "plt.hist(x=Train[:,3],weights=predict[:,1],alpha=0.5, bins=np.arange(0,1000,5))\n",
    "plt.hist(x=Train[:,3],weights=predict[:,0],alpha=0.5, bins=np.arange(0,1000,5))\n",
    "plt.xlim(0,200)"
   ]
  },
  {
   "cell_type": "code",
   "execution_count": 26,
   "metadata": {},
   "outputs": [
    {
     "data": {
      "text/plain": [
       "Text(0, 0.5, 'Frequency')"
      ]
     },
     "execution_count": 26,
     "metadata": {},
     "output_type": "execute_result"
    },
    {
     "data": {
      "image/png": "[encoded data removed]",
      "text/plain": [
       "<Figure size 432x288 with 1 Axes>"
      ]
     },
     "metadata": {
      "needs_background": "light"
     },
     "output_type": "display_data"
    }
   ],
   "source": [
    "n2, bins2, patches2 = plt.hist(x=ETrain[:,3], bins=np.arange(0,1000,5))\n",
    "n, bins, patches = plt.hist(x=GTrain[:,3], bins=np.arange(0,1000,5))\n",
    "plt.xlim(0,600)\n",
    "plt.ylabel('Frequency')"
   ]
  },
  {
   "cell_type": "code",
   "execution_count": null,
   "metadata": {},
   "outputs": [],
   "source": []
  }
 ],
 "metadata": {
  "kernelspec": {
   "display_name": "Python 3",
   "language": "python",
   "name": "python3"
  },
  "language_info": {
   "codemirror_mode": {
    "name": "ipython",
    "version": 3
   },
   "file_extension": ".py",
   "mimetype": "text/x-python",
   "name": "python",
   "nbconvert_exporter": "python",
   "pygments_lexer": "ipython3",
   "version": "3.8.3"
  }
 },
 "nbformat": 4,
 "nbformat_minor": 4
}
