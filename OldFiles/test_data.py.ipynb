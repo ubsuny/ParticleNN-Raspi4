{
 "cells": [
  {
   "cell_type": "code",
   "execution_count": null,
   "metadata": {},
   "outputs": [],
   "source": [
    "import tensorflow as tf\n",
    "import numpy as np\n",
    "from ExpodentialDistribution import Exp\n",
    "from GaussianDistribution import Gauss\n",
    "\n",
    "def test_data(p,Ntest):\n",
    "    params = 4\n",
    "    )\n",
    "    ETest,ETestVals = Exp(p,Ntest)\n",
    "\n",
    "    GTest,GTestVals = Gauss(p,Ntest)\n",
    "\n",
    "    Test = np.zeros((2*Ntest,params))\n",
    "    Test_vals = np.zeros((2*Ntest))\n",
    "\n",
    "    Test[:Ntest,:] = ETest\n",
    "    Test[Ntest:,:] = GTest\n",
    "    Test_vals[:Ntest] = ETrainVals\n",
    "    Test_vals[Ntest:] = GTrainVals\n",
    "    \n",
    "    return Test,Test_vals\n",
    "\n",
    "\n"
   ]
  }
 ],
 "metadata": {
  "kernelspec": {
   "display_name": "Python 3",
   "language": "python",
   "name": "python3"
  },
  "language_info": {
   "codemirror_mode": {
    "name": "ipython",
    "version": 3
   },
   "file_extension": ".py",
   "mimetype": "text/x-python",
   "name": "python",
   "nbconvert_exporter": "python",
   "pygments_lexer": "ipython3",
   "version": "3.8.3"
  }
 },
 "nbformat": 4,
 "nbformat_minor": 4
}
