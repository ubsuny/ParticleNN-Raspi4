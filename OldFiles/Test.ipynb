{
 "cells": [
  {
   "cell_type": "code",
   "execution_count": 3,
   "metadata": {},
   "outputs": [],
   "source": [
    "import numpy as np\n",
    "import random\n",
    "import math"
   ]
  },
  {
   "cell_type": "code",
   "execution_count": 4,
   "metadata": {},
   "outputs": [],
   "source": [
    "p = 100\n",
    "Ntrain = 5"
   ]
  },
  {
   "cell_type": "code",
   "execution_count": 13,
   "metadata": {},
   "outputs": [],
   "source": [
    "MassN = np.random.normal(p/2,math.sqrt(p),Ntrain)\n",
    "cos = np.vectorize(math.cos)\n",
    "acos = np.vectorize(math.acos)\n",
    "sin = np.vectorize(math.sin)\n",
    "sqrt = np.vectorize(math.sqrt)\n",
    "phi = np.random.uniform(0,2*math.pi,Ntrain)\n",
    "theta = np.random.uniform(-math.pi,math.pi,Ntrain)\n",
    "#phi = acos(sin(theta))\n",
    "PxN = p*(cos(phi))*(sin(theta))\n",
    "PyN = p*(sin(theta))*(sin(phi))\n",
    "PzN = p*(cos(theta))"
   ]
  },
  {
   "cell_type": "code",
   "execution_count": 14,
   "metadata": {},
   "outputs": [
    {
     "name": "stdout",
     "output_type": "stream",
     "text": [
      "[10000. 10000. 10000. 10000. 10000.]\n"
     ]
    }
   ],
   "source": [
    "pTest = PxN**2+PyN**2+PzN**2\n",
    "print(pTest)"
   ]
  },
  {
   "cell_type": "code",
   "execution_count": null,
   "metadata": {},
   "outputs": [],
   "source": []
  }
 ],
 "metadata": {
  "kernelspec": {
   "display_name": "Python 3",
   "language": "python",
   "name": "python3"
  },
  "language_info": {
   "codemirror_mode": {
    "name": "ipython",
    "version": 3
   },
   "file_extension": ".py",
   "mimetype": "text/x-python",
   "name": "python",
   "nbconvert_exporter": "python",
   "pygments_lexer": "ipython3",
   "version": "3.8.3"
  }
 },
 "nbformat": 4,
 "nbformat_minor": 4
}
