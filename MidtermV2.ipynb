{
 "cells": [
  {
   "cell_type": "markdown",
   "metadata": {},
   "source": [
    "# Particle Neural Network"
   ]
  },
  {
   "cell_type": "markdown",
   "metadata": {},
   "source": [
    "Imports Three handcrafted files, in addition to the standard numpy and matplotlib moduals.  ParticleNet.py is the neural network, which takes as input 4-vectors generated using ExpodentialDistribution.py and GaussianDistribution.py which produced 3-vector momentum and a mass vector each, where the mass vector is radomly drawn from either an expodential or a gaussian distribution respectivly.  PlotResults contains a plot function, which plots the distribution of the precentages of the Particle Neural Network's predictions for a single particle."
   ]
  },
  {
   "cell_type": "code",
   "execution_count": 1,
   "metadata": {},
   "outputs": [],
   "source": [
    "from ExpodentialDistribution import Exp\n",
    "from GaussianDistribution import Gauss\n",
    "from ParticleNet import ParticleNet\n",
    "import numpy as np\n",
    "from PlotResults import plot\n",
    "import matplotlib.pyplot as plt"
   ]
  },
  {
   "cell_type": "markdown",
   "metadata": {},
   "source": [
    "These are the only constants needed to run this simulation thus far.  'p' the momentum is constant for all particles.  Ntrain is the number of samples the particle neural network will train on, and Ntest is the number of particles the neural network will test on."
   ]
  },
  {
   "cell_type": "code",
   "execution_count": 2,
   "metadata": {},
   "outputs": [],
   "source": [
    "p = 100\n",
    "Ntrain = 1000000\n",
    "Ntest = 1000000"
   ]
  },
  {
   "cell_type": "markdown",
   "metadata": {},
   "source": [
    "Below, we generate our data to feed into the particle neural network.  First we create training and testing data sets from the expodential distribution modual and then the gaussian modual.  Both moduals generate a 4-vector, which includes a 3-vector momentum and a mass vector where the masses are drawn from the respective distribution at random.  Besides the 4-vector, a vector idicating that which distribution each piece of data belongs to is returned, a vector of all zeros for the expodential distribution and a vector of all ones for the gaussian."
   ]
  },
  {
   "cell_type": "code",
   "execution_count": 3,
   "metadata": {},
   "outputs": [],
   "source": [
    "ETrain,ETrainVals = Exp(p,Ntrain)\n",
    "ETest,ETestVals = Exp(p,Ntest)\n",
    "\n",
    "GTrain,GTrainVals = Gauss(p,Ntrain)\n",
    "GTest,GTestVals = Gauss(p,Ntest)"
   ]
  },
  {
   "cell_type": "markdown",
   "metadata": {},
   "source": [
    "Here, we are just concatinating the data from the expodential and gaussian distributions into a single training and testing data set."
   ]
  },
  {
   "cell_type": "code",
   "execution_count": 4,
   "metadata": {},
   "outputs": [],
   "source": [
    "Train = np.zeros((2*Ntrain,4))\n",
    "Test = np.zeros((2*Ntest,4))\n",
    "TrainVals = np.zeros(Ntrain*2)\n",
    "TestVals = np.zeros(Ntest*2)\n",
    "\n",
    "Train[:Ntrain] = ETrain\n",
    "Train[Ntrain:] = GTrain\n",
    "TrainVals[:Ntrain] = ETrainVals\n",
    "TrainVals[Ntrain:] = GTrainVals\n",
    "\n",
    "Test[:Ntest] = ETest\n",
    "Test[Ntest:] = GTest\n",
    "TestVals[:Ntest] = ETestVals\n",
    "TestVals[Ntest:] = GTestVals"
   ]
  },
  {
   "cell_type": "markdown",
   "metadata": {},
   "source": [
    "Below is the particle neural network being run on the data generated."
   ]
  },
  {
   "cell_type": "code",
   "execution_count": 5,
   "metadata": {},
   "outputs": [
    {
     "name": "stdout",
     "output_type": "stream",
     "text": [
      "Epoch 1/10\n",
      "62500/62500 [==============================] - 31s 495us/step - loss: 0.3808 - accuracy: 0.8400\n",
      "Epoch 2/10\n",
      "62500/62500 [==============================] - 31s 490us/step - loss: 0.3508 - accuracy: 0.8518\n",
      "Epoch 3/10\n",
      "62500/62500 [==============================] - 31s 494us/step - loss: 0.3494 - accuracy: 0.8523\n",
      "Epoch 4/10\n",
      "62500/62500 [==============================] - 31s 495us/step - loss: 0.3485 - accuracy: 0.8525\n",
      "Epoch 5/10\n",
      "62500/62500 [==============================] - 31s 493us/step - loss: 0.3476 - accuracy: 0.8530\n",
      "Epoch 6/10\n",
      "62500/62500 [==============================] - 31s 488us/step - loss: 0.3450 - accuracy: 0.8538\n",
      "Epoch 7/10\n",
      "62500/62500 [==============================] - 31s 494us/step - loss: 0.3449 - accuracy: 0.8540\n",
      "Epoch 8/10\n",
      "62500/62500 [==============================] - 32s 507us/step - loss: 0.3449 - accuracy: 0.8537\n",
      "Epoch 9/10\n",
      "62500/62500 [==============================] - 31s 495us/step - loss: 0.3445 - accuracy: 0.8539\n",
      "Epoch 10/10\n",
      "62500/62500 [==============================] - 31s 497us/step - loss: 0.3445 - accuracy: 0.8539\n",
      "62500/62500 - 18s - loss: 0.3428 - accuracy: 0.8548\n",
      "\n",
      "Test accuracy: 0.8548455238342285\n"
     ]
    }
   ],
   "source": [
    "predict = ParticleNet(Train,TrainVals,Test)"
   ]
  },
  {
   "cell_type": "markdown",
   "metadata": {},
   "source": [
    "Below, we take a look at the masses for the expodential distribution."
   ]
  },
  {
   "cell_type": "code",
   "execution_count": 6,
   "metadata": {},
   "outputs": [
    {
     "data": {
      "text/plain": [
       "Text(0.5, 1.0, 'Expodential Distrubution')"
      ]
     },
     "execution_count": 6,
     "metadata": {},
     "output_type": "execute_result"
    },
    {
     "data": {
      "image/png": "[encoded data removed]",
      "text/plain": [
       "<Figure size 432x288 with 1 Axes>"
      ]
     },
     "metadata": {
      "needs_background": "light"
     },
     "output_type": "display_data"
    }
   ],
   "source": [
    "n, bins, patches = plt.hist(x=ETrain[:,3], bins='auto')\n",
    "plt.xlabel('Masses Expodential')\n",
    "plt.ylabel('Frequency')\n",
    "plt.title('Expodential Distrubution')"
   ]
  },
  {
   "cell_type": "markdown",
   "metadata": {},
   "source": [
    "Below is a plot of the masses randomly generated from a Gaussian distribution."
   ]
  },
  {
   "cell_type": "code",
   "execution_count": 7,
   "metadata": {},
   "outputs": [
    {
     "data": {
      "text/plain": [
       "Text(0.5, 1.0, 'Normal Distrubution')"
      ]
     },
     "execution_count": 7,
     "metadata": {},
     "output_type": "execute_result"
    },
    {
     "data": {
      "image/png": "[encoded data removed]",
      "text/plain": [
       "<Figure size 432x288 with 1 Axes>"
      ]
     },
     "metadata": {
      "needs_background": "light"
     },
     "output_type": "display_data"
    }
   ],
   "source": [
    "n, bins, patches = plt.hist(x=GTrain[:,3], bins='auto')\n",
    "plt.xlabel('Masses Normal')\n",
    "plt.ylabel('Frequency')\n",
    "plt.title('Normal Distrubution')"
   ]
  },
  {
   "cell_type": "markdown",
   "metadata": {},
   "source": [
    "Below are a few results from the predictions.  For the predictions, 0 represents the mass of the particle being from a expodential distribution and 1 represents a gaussian distribution.  As can be seen in the plot directly beneath, the model did correctly guess the expodential distribution to be such but barly."
   ]
  },
  {
   "cell_type": "code",
   "execution_count": 8,
   "metadata": {},
   "outputs": [
    {
     "data": {
      "image/png": "[encoded data removed]",
      "text/plain": [
       "<Figure size 432x288 with 1 Axes>"
      ]
     },
     "metadata": {
      "needs_background": "light"
     },
     "output_type": "display_data"
    }
   ],
   "source": [
    "i = int(.1*Ntest)\n",
    "plot(i, predict[i])"
   ]
  },
  {
   "cell_type": "markdown",
   "metadata": {},
   "source": [
    "For the plot beneath, the model correctly guessed a Gaussian distribution by a landslide."
   ]
  },
  {
   "cell_type": "code",
   "execution_count": 9,
   "metadata": {},
   "outputs": [
    {
     "data": {
      "image/png": "[encoded data removed]",
      "text/plain": [
       "<Figure size 432x288 with 1 Axes>"
      ]
     },
     "metadata": {
      "needs_background": "light"
     },
     "output_type": "display_data"
    }
   ],
   "source": [
    "i = int(1.5*Ntest)\n",
    "plot(i, predict[i])"
   ]
  },
  {
   "cell_type": "markdown",
   "metadata": {},
   "source": [
    "However, in the plot beneath, the model incorrectly guesses a gaussian distribution for an expodential one."
   ]
  },
  {
   "cell_type": "code",
   "execution_count": 10,
   "metadata": {},
   "outputs": [
    {
     "data": {
      "image/png": "[encoded data removed]",
      "text/plain": [
       "<Figure size 432x288 with 1 Axes>"
      ]
     },
     "metadata": {
      "needs_background": "light"
     },
     "output_type": "display_data"
    }
   ],
   "source": [
    "i = int(.25*Ntest)\n",
    "plot(i, predict[i])"
   ]
  },
  {
   "cell_type": "code",
   "execution_count": 11,
   "metadata": {},
   "outputs": [
    {
     "name": "stdout",
     "output_type": "stream",
     "text": [
      "The model, on average, thought a Expodential distribution to be just that at 77.8409 percent.\n",
      "And thought a Expodential distribution to be a Gaussian distribution at 22.1967796875 percent.\n"
     ]
    }
   ],
   "source": [
    "FalseExps = sum(predict[:Ntest])/Ntest*100\n",
    "print(\"The model, on average, thought a Expodential distribution to be just that at \" + str(FalseExps[0]) + \" percent.\")\n",
    "print(\"And thought a Expodential distribution to be a Gaussian distribution at \" + str(FalseExps[1]) + \" percent.\")"
   ]
  },
  {
   "cell_type": "code",
   "execution_count": 12,
   "metadata": {},
   "outputs": [
    {
     "name": "stdout",
     "output_type": "stream",
     "text": [
      "The model, on average, thought a Gaussian distribution to be just that at 78.979990625 percent.\n",
      "And thought a Gaussian distribution to be a Expodential distribution at 21.02496875 percent.\n"
     ]
    }
   ],
   "source": [
    "FalseGauss = (Ntest-sum(predict[Ntest:]))/Ntest*100\n",
    "print(\"The model, on average, thought a Gaussian distribution to be just that at \" + str(FalseGauss[0]) + \" percent.\")\n",
    "print(\"And thought a Gaussian distribution to be a Expodential distribution at \" + str(FalseGauss[1]) + \" percent.\")"
   ]
  },
  {
   "cell_type": "code",
   "execution_count": null,
   "metadata": {},
   "outputs": [],
   "source": []
  }
 ],
 "metadata": {
  "kernelspec": {
   "display_name": "Python 3",
   "language": "python",
   "name": "python3"
  },
  "language_info": {
   "codemirror_mode": {
    "name": "ipython",
    "version": 3
   },
   "file_extension": ".py",
   "mimetype": "text/x-python",
   "name": "python",
   "nbconvert_exporter": "python",
   "pygments_lexer": "ipython3",
   "version": "3.8.3"
  }
 },
 "nbformat": 4,
 "nbformat_minor": 4
}
