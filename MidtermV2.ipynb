{
 "cells": [
  {
   "cell_type": "code",
   "execution_count": 1,
   "metadata": {},
   "outputs": [],
   "source": [
    "import tensorflow as tf\n",
    "import numpy as np\n",
    "import matplotlib.pyplot as plt\n",
    "import random\n",
    "import math"
   ]
  },
  {
   "cell_type": "code",
   "execution_count": 2,
   "metadata": {},
   "outputs": [],
   "source": [
    "p = 100\n",
    "Ntrain = 10\n",
    "Ntest = 10"
   ]
  },
  {
   "cell_type": "markdown",
   "metadata": {},
   "source": [
    "# Calculations"
   ]
  },
  {
   "cell_type": "code",
   "execution_count": 3,
   "metadata": {},
   "outputs": [],
   "source": [
    "MassE = np.random.exponential(p,Ntrain)\n",
    "cos = np.vectorize(math.cos)\n",
    "acos = np.vectorize(math.acos)\n",
    "sin = np.vectorize(math.sin)\n",
    "sqrt = np.vectorize(math.sqrt)\n",
    "theta = np.random.uniform(0,2*math.pi,Ntrain)\n",
    "#phi = np.random.uniform(0,math.pi,Ntrain)\n",
    "phi = acos(sin(theta))\n",
    "PxE = p*(cos(theta))*(cos(phi))\n",
    "PyE = p*(cos(theta))*(sin(phi))\n",
    "PzE = p*(cos(phi))\n",
    "\n",
    "TrainValues = np.ones(Ntrain*2)\n",
    "TrainValues[:Ntrain] = 0\n",
    "TrainValues = TrainValues.astype(int)\n",
    "\n",
    "TestValues = np.ones(Ntest*2)\n",
    "TestValues[:Ntest] = 0\n",
    "TestValues = TestValues.astype(int)\n",
    "\n",
    "Train = [[]]\n",
    "for k in range(Ntrain):\n",
    "    Train.append(np.array([PxE[k],PyE[k],PzE[k],MassE[k]]))\n",
    "\n",
    "\n",
    "MassE = np.random.exponential(p,Ntest)\n",
    "theta = np.random.uniform(0,2*math.pi,Ntest)\n",
    "phi = np.random.uniform(0,math.pi,Ntest)\n",
    "PxE = p*(cos(theta))*(cos(phi))\n",
    "PyE = p*(cos(theta))*(sin(phi))\n",
    "PzE = p*(cos(phi))\n",
    "\n",
    "Test = [[]]\n",
    "for k in range(Ntest):\n",
    "    Test.append(np.array([PxE[k],PyE[k],PzE[k],MassE[k]]))\n",
    "\n",
    "MassN = np.random.normal(p/2,math.sqrt(p),Ntrain)\n",
    "theta = np.random.uniform(0,2*math.pi,Ntrain)\n",
    "phi = np.random.uniform(0,math.pi,Ntrain)\n",
    "PxN = p*(cos(theta))*(cos(phi))\n",
    "PyN = p*(cos(theta))*(sin(phi))\n",
    "PzN = p*(cos(phi))\n",
    "\n",
    "for k in range(Ntrain):\n",
    "    Train.append(np.array([PxN[k],PyN[k],PzN[k],MassN[k]]))\n",
    "\n",
    "\n",
    "MassN = np.random.normal(p/2,math.sqrt(p),Ntest)\n",
    "theta = np.random.uniform(0,2*math.pi,Ntest)\n",
    "phi = np.random.uniform(0,math.pi,Ntest)\n",
    "PxN = p*(cos(theta))*(cos(phi))\n",
    "PyN = p*(cos(theta))*(sin(phi))\n",
    "PzN = p*(cos(phi))\n",
    "\n",
    "for k in range(Ntest):\n",
    "    Test.append(np.array([PxN[k],PyN[k],PzN[k],MassN[k]]))\n",
    "\n",
    "Train.pop(0)\n",
    "Train = np.asarray(Train)\n",
    "Test.pop(0)\n",
    "Test = np.asarray(Test)"
   ]
  },
  {
   "cell_type": "code",
   "execution_count": 26,
   "metadata": {},
   "outputs": [
    {
     "name": "stdout",
     "output_type": "stream",
     "text": [
      "[100. 100. 100. 100. 100. 100. 100. 100. 100. 100.]\n"
     ]
    }
   ],
   "source": [
    "theta = np.random.uniform(0,2*math.pi,Ntrain)\n",
    "#phi = np.random.uniform(0,math.pi,Ntrain)\n",
    "phi = acos(sin(theta))\n",
    "PxE = p*(cos(theta))*(cos(phi))\n",
    "PyE = p*(cos(theta))*(sin(phi))\n",
    "PzE = p*(cos(phi))\n",
    "print(sqrt(PxE**2 + PyE**2 + PzE**2))"
   ]
  },
  {
   "cell_type": "code",
   "execution_count": null,
   "metadata": {},
   "outputs": [],
   "source": []
  },
  {
   "cell_type": "code",
   "execution_count": 5,
   "metadata": {},
   "outputs": [
    {
     "name": "stdout",
     "output_type": "stream",
     "text": [
      "[1.10537997 1.10896453 1.48000103 0.83956023 0.33809386 1.62110252\n",
      " 0.80609612 0.71414468 1.06352303 0.04790731]\n",
      "[1.10537997 1.10896453 1.48000103 0.83956023 0.33809386 1.62110252\n",
      " 0.80609612 0.71414468 1.06352303 0.04790731]\n"
     ]
    }
   ],
   "source": [
    "print(pow(cos(theta),2)+pow(cos(phi),2))\n",
    "print(cos(theta)**2+cos(phi)**2)"
   ]
  },
  {
   "cell_type": "code",
   "execution_count": 6,
   "metadata": {},
   "outputs": [
    {
     "data": {
      "text/plain": [
       "Text(0.5, 1.0, 'Expodential Distrubution')"
      ]
     },
     "execution_count": 6,
     "metadata": {},
     "output_type": "execute_result"
    },
    {
     "data": {
      "image/png": "[encoded data removed]",
      "text/plain": [
       "<Figure size 432x288 with 1 Axes>"
      ]
     },
     "metadata": {
      "needs_background": "light"
     },
     "output_type": "display_data"
    }
   ],
   "source": [
    "n, bins, patches = plt.hist(x=MassE, bins='auto')\n",
    "plt.xlabel('Masses Expodential')\n",
    "plt.ylabel('Frequency')\n",
    "plt.title('Expodential Distrubution')"
   ]
  },
  {
   "cell_type": "code",
   "execution_count": 7,
   "metadata": {},
   "outputs": [
    {
     "data": {
      "text/plain": [
       "Text(0.5, 1.0, 'Normal Distrubution')"
      ]
     },
     "execution_count": 7,
     "metadata": {},
     "output_type": "execute_result"
    },
    {
     "data": {
      "image/png": "[encoded data removed]",
      "text/plain": [
       "<Figure size 432x288 with 1 Axes>"
      ]
     },
     "metadata": {
      "needs_background": "light"
     },
     "output_type": "display_data"
    }
   ],
   "source": [
    "n, bins, patches = plt.hist(x=MassN, bins='auto')\n",
    "plt.xlabel('Masses Normal')\n",
    "plt.ylabel('Frequency')\n",
    "plt.title('Normal Distrubution')"
   ]
  },
  {
   "cell_type": "code",
   "execution_count": 8,
   "metadata": {},
   "outputs": [
    {
     "name": "stdout",
     "output_type": "stream",
     "text": [
      "<class 'numpy.ndarray'>\n",
      "[[  8.21807586 -99.32000841  -8.24616028  74.50056412]\n",
      " [-31.96059905 -88.45152934  33.98304086  17.64784042]\n",
      " [ 19.99642374 -95.82731759 -20.42714471  18.35471137]\n",
      " [ 49.95275399  47.82689877  72.2309499  116.68110897]\n",
      " [ 28.06025752 -91.38383679 -29.3533017   26.0838153 ]\n",
      " [ 40.65825161 -20.89834067 -88.93911363 111.35486033]\n",
      " [ 49.45246883 -42.62075024 -75.74909225  65.31184773]\n",
      " [-45.75538737  29.8395306  -83.76184656  48.71462839]\n",
      " [ 43.40702152 -25.18406796 -86.49620341 137.61706021]\n",
      " [-24.91215748   6.64813257 -96.61877014  30.39425543]\n",
      " [ 41.54895964   8.20457453  98.10555345  44.68120917]\n",
      " [-45.03063593  63.5509437  -57.81488592  57.26591601]\n",
      " [ 31.60541615  63.82324761  44.37707265  34.46897978]\n",
      " [  1.94340418   2.26653189  65.09192908  46.01675072]\n",
      " [-20.17581603  85.00786622 -23.09255965  53.00343139]\n",
      " [-88.09066681  10.90230384 -99.24283181  56.94323146]\n",
      " [ -6.40422341   1.92453608 -95.76916326  46.04716034]\n",
      " [ 37.8194572    2.57670564  99.76870818  49.29852144]\n",
      " [ 51.81917035  85.27885193  51.92909335  46.80900121]\n",
      " [ 11.08246459  95.73452928  11.49945064  36.82497043]]\n",
      "(20, 4)\n"
     ]
    }
   ],
   "source": [
    "print(type(Train))\n",
    "print(Train)\n",
    "print(Train.shape)"
   ]
  },
  {
   "cell_type": "code",
   "execution_count": 9,
   "metadata": {},
   "outputs": [
    {
     "name": "stdout",
     "output_type": "stream",
     "text": [
      "<class 'numpy.ndarray'>\n",
      "[0 0 0 0 0 0 0 0 0 0 1 1 1 1 1 1 1 1 1 1]\n",
      "(20,)\n"
     ]
    }
   ],
   "source": [
    "print(type(TrainValues))\n",
    "print(TrainValues)\n",
    "print(TrainValues.shape)"
   ]
  },
  {
   "cell_type": "code",
   "execution_count": null,
   "metadata": {},
   "outputs": [],
   "source": []
  },
  {
   "cell_type": "code",
   "execution_count": 10,
   "metadata": {},
   "outputs": [],
   "source": [
    "class_names = ['Expodential','Normal']"
   ]
  },
  {
   "cell_type": "code",
   "execution_count": 11,
   "metadata": {},
   "outputs": [],
   "source": [
    "model = tf.keras.Sequential([\n",
    "    tf.keras.layers.Flatten(input_shape=(4, 1)),\n",
    "    tf.keras.layers.Dense(128, activation='relu'),\n",
    "    tf.keras.layers.Dense(2)\n",
    "])"
   ]
  },
  {
   "cell_type": "code",
   "execution_count": 12,
   "metadata": {},
   "outputs": [],
   "source": [
    "model.compile(optimizer='adam',\n",
    "              loss=tf.keras.losses.SparseCategoricalCrossentropy(from_logits=True),\n",
    "              metrics=['accuracy'])"
   ]
  },
  {
   "cell_type": "code",
   "execution_count": 13,
   "metadata": {},
   "outputs": [
    {
     "name": "stdout",
     "output_type": "stream",
     "text": [
      "Model: \"sequential\"\n",
      "_________________________________________________________________\n",
      "Layer (type)                 Output Shape              Param #   \n",
      "=================================================================\n",
      "flatten (Flatten)            (None, 4)                 0         \n",
      "_________________________________________________________________\n",
      "dense (Dense)                (None, 128)               640       \n",
      "_________________________________________________________________\n",
      "dense_1 (Dense)              (None, 2)                 258       \n",
      "=================================================================\n",
      "Total params: 898\n",
      "Trainable params: 898\n",
      "Non-trainable params: 0\n",
      "_________________________________________________________________\n"
     ]
    }
   ],
   "source": [
    "model.summary()"
   ]
  },
  {
   "cell_type": "code",
   "execution_count": 14,
   "metadata": {},
   "outputs": [
    {
     "name": "stdout",
     "output_type": "stream",
     "text": [
      "Epoch 1/10\n",
      "1/1 [==============================] - 0s 336ms/step - loss: 1.8973 - accuracy: 0.8000\n",
      "Epoch 2/10\n",
      "1/1 [==============================] - 0s 2ms/step - loss: 1.6055 - accuracy: 0.8500\n",
      "Epoch 3/10\n",
      "1/1 [==============================] - 0s 2ms/step - loss: 1.3563 - accuracy: 0.8500\n",
      "Epoch 4/10\n",
      "1/1 [==============================] - 0s 2ms/step - loss: 1.1106 - accuracy: 0.8500\n",
      "Epoch 5/10\n",
      "1/1 [==============================] - 0s 4ms/step - loss: 0.8745 - accuracy: 0.8500\n",
      "Epoch 6/10\n",
      "1/1 [==============================] - 0s 3ms/step - loss: 0.6642 - accuracy: 0.8500\n",
      "Epoch 7/10\n",
      "1/1 [==============================] - 0s 3ms/step - loss: 0.5881 - accuracy: 0.8500\n",
      "Epoch 8/10\n",
      "1/1 [==============================] - 0s 3ms/step - loss: 0.6081 - accuracy: 0.7500\n",
      "Epoch 9/10\n",
      "1/1 [==============================] - 0s 2ms/step - loss: 0.6008 - accuracy: 0.8000\n",
      "Epoch 10/10\n",
      "1/1 [==============================] - 0s 2ms/step - loss: 0.5445 - accuracy: 0.8000\n"
     ]
    },
    {
     "data": {
      "text/plain": [
       "<tensorflow.python.keras.callbacks.History at 0x7f86f3cfb340>"
      ]
     },
     "execution_count": 14,
     "metadata": {},
     "output_type": "execute_result"
    }
   ],
   "source": [
    "model.fit(Train, TrainValues, epochs=10)"
   ]
  },
  {
   "cell_type": "code",
   "execution_count": 15,
   "metadata": {},
   "outputs": [
    {
     "name": "stdout",
     "output_type": "stream",
     "text": [
      "1/1 - 0s - loss: 0.4588 - accuracy: 0.8000\n",
      "\n",
      "Test accuracy: 0.800000011920929\n"
     ]
    }
   ],
   "source": [
    "test_loss, test_acc = model.evaluate(Train, TrainValues, verbose=2)\n",
    "\n",
    "print('\\nTest accuracy:', test_acc)\n"
   ]
  },
  {
   "cell_type": "code",
   "execution_count": 16,
   "metadata": {},
   "outputs": [],
   "source": [
    "probability_model = tf.keras.Sequential([model, \n",
    "                                         tf.keras.layers.Softmax()])"
   ]
  },
  {
   "cell_type": "code",
   "execution_count": 17,
   "metadata": {},
   "outputs": [],
   "source": [
    "predictions = probability_model.predict(Test)"
   ]
  },
  {
   "cell_type": "code",
   "execution_count": 18,
   "metadata": {},
   "outputs": [
    {
     "data": {
      "text/plain": [
       "array([0.99817216, 0.00182783], dtype=float32)"
      ]
     },
     "execution_count": 18,
     "metadata": {},
     "output_type": "execute_result"
    }
   ],
   "source": [
    "predictions[0]"
   ]
  },
  {
   "cell_type": "code",
   "execution_count": 19,
   "metadata": {},
   "outputs": [
    {
     "data": {
      "text/plain": [
       "0"
      ]
     },
     "execution_count": 19,
     "metadata": {},
     "output_type": "execute_result"
    }
   ],
   "source": [
    "np.argmax(predictions[0])"
   ]
  },
  {
   "cell_type": "code",
   "execution_count": 20,
   "metadata": {},
   "outputs": [
    {
     "name": "stdout",
     "output_type": "stream",
     "text": [
      "[[9.9817216e-01 1.8278299e-03]\n",
      " [9.9929941e-01 7.0052542e-04]\n",
      " [9.9843639e-01 1.5635518e-03]\n",
      " [4.9454349e-01 5.0545645e-01]\n",
      " [9.9100775e-01 8.9922510e-03]\n",
      " [1.0000000e+00 8.9586194e-10]\n",
      " [9.9999392e-01 6.0383823e-06]\n",
      " [6.4516142e-11 1.0000000e+00]\n",
      " [9.9999881e-01 1.2088623e-06]\n",
      " [1.0000000e+00 6.7418557e-14]\n",
      " [1.3249358e-12 1.0000000e+00]\n",
      " [9.9502581e-01 4.9741375e-03]\n",
      " [6.6843214e-08 9.9999988e-01]\n",
      " [8.1323117e-01 1.8676883e-01]\n",
      " [9.9999845e-01 1.5035235e-06]\n",
      " [1.1165436e-01 8.8834566e-01]\n",
      " [1.7900439e-07 9.9999976e-01]\n",
      " [9.9992669e-01 7.3249874e-05]\n",
      " [9.9852425e-01 1.4758194e-03]\n",
      " [3.7694994e-01 6.2305009e-01]]\n"
     ]
    }
   ],
   "source": [
    "print(predictions)"
   ]
  },
  {
   "cell_type": "code",
   "execution_count": 21,
   "metadata": {},
   "outputs": [
    {
     "name": "stdout",
     "output_type": "stream",
     "text": [
      "0.5\n"
     ]
    }
   ],
   "source": [
    "ErrorExp = np.average(predictions[:Ntest])\n",
    "print(ErrorExp)"
   ]
  },
  {
   "cell_type": "code",
   "execution_count": 22,
   "metadata": {},
   "outputs": [],
   "source": [
    "def plot_value_array(i, predictions_array, true_label):\n",
    "  true_label = true_label[i]\n",
    "  plt.grid(False)\n",
    "  plt.xticks(range(2))\n",
    "  plt.yticks([])\n",
    "  thisplot = plt.bar(range(2), predictions_array, color=\"#777777\")\n",
    "  plt.ylim([0, 1])\n",
    "  predicted_label = np.argmax(predictions_array)\n",
    "\n",
    "  thisplot[predicted_label].set_color('red')\n",
    "  thisplot[true_label].set_color('blue')\n",
    "\n",
    "def plot_predicted_array(i, predictions_array):\n",
    "  plt.grid(False)\n",
    "  plt.xticks(range(2))\n",
    "  plt.yticks([])\n",
    "  thisplot = plt.bar(range(2), predictions_array, color=\"#777777\")\n",
    "  plt.ylim([0, 1])\n",
    "  predicted_label = np.argmax(predictions_array)"
   ]
  },
  {
   "cell_type": "code",
   "execution_count": 23,
   "metadata": {},
   "outputs": [
    {
     "ename": "IndexError",
     "evalue": "index 1000 is out of bounds for axis 0 with size 20",
     "output_type": "error",
     "traceback": [
      "\u001b[0;31m---------------------------------------------------------------------------\u001b[0m",
      "\u001b[0;31mIndexError\u001b[0m                                Traceback (most recent call last)",
      "\u001b[0;32m<ipython-input-23-8d4ffb6009f0>\u001b[0m in \u001b[0;36m<module>\u001b[0;34m\u001b[0m\n\u001b[1;32m      1\u001b[0m \u001b[0mi\u001b[0m \u001b[0;34m=\u001b[0m \u001b[0;36m1000\u001b[0m\u001b[0;34m\u001b[0m\u001b[0;34m\u001b[0m\u001b[0m\n\u001b[0;32m----> 2\u001b[0;31m \u001b[0mplot_value_array\u001b[0m\u001b[0;34m(\u001b[0m\u001b[0mi\u001b[0m\u001b[0;34m,\u001b[0m \u001b[0mpredictions\u001b[0m\u001b[0;34m[\u001b[0m\u001b[0mi\u001b[0m\u001b[0;34m]\u001b[0m\u001b[0;34m,\u001b[0m  \u001b[0mTestValues\u001b[0m\u001b[0;34m)\u001b[0m\u001b[0;34m\u001b[0m\u001b[0;34m\u001b[0m\u001b[0m\n\u001b[0m",
      "\u001b[0;31mIndexError\u001b[0m: index 1000 is out of bounds for axis 0 with size 20"
     ]
    }
   ],
   "source": [
    "i = 1000\n",
    "plot_value_array(i, predictions[i],  TestValues)"
   ]
  },
  {
   "cell_type": "code",
   "execution_count": null,
   "metadata": {},
   "outputs": [],
   "source": [
    "i = 950000\n",
    "plot_predicted_array(i, predictions[i])"
   ]
  },
  {
   "cell_type": "code",
   "execution_count": null,
   "metadata": {},
   "outputs": [],
   "source": []
  },
  {
   "cell_type": "code",
   "execution_count": null,
   "metadata": {},
   "outputs": [],
   "source": []
  },
  {
   "cell_type": "code",
   "execution_count": null,
   "metadata": {},
   "outputs": [],
   "source": []
  }
 ],
 "metadata": {
  "kernelspec": {
   "display_name": "Python 3",
   "language": "python",
   "name": "python3"
  },
  "language_info": {
   "codemirror_mode": {
    "name": "ipython",
    "version": 3
   },
   "file_extension": ".py",
   "mimetype": "text/x-python",
   "name": "python",
   "nbconvert_exporter": "python",
   "pygments_lexer": "ipython3",
   "version": "3.8.3"
  }
 },
 "nbformat": 4,
 "nbformat_minor": 4
}
